{
  "nbformat": 4,
  "nbformat_minor": 0,
  "metadata": {
    "colab": {
      "provenance": [],
      "gpuType": "T4"
    },
    "kernelspec": {
      "name": "python3",
      "display_name": "Python 3"
    },
    "language_info": {
      "name": "python"
    },
    "accelerator": "GPU"
  },
  "cells": [
    {
      "cell_type": "code",
      "execution_count": null,
      "metadata": {
        "colab": {
          "base_uri": "https://localhost:8080/"
        },
        "id": "dG-Qt6w2RNtk",
        "outputId": "e27a2ac4-f974-40cc-b050-c7a808b6f573",
        "collapsed": true
      },
      "outputs": [
        {
          "output_type": "stream",
          "name": "stdout",
          "text": [
            "Requirement already satisfied: torch in /usr/local/lib/python3.12/dist-packages (2.8.0+cu126)\n",
            "Requirement already satisfied: filelock in /usr/local/lib/python3.12/dist-packages (from torch) (3.19.1)\n",
            "Requirement already satisfied: typing-extensions>=4.10.0 in /usr/local/lib/python3.12/dist-packages (from torch) (4.15.0)\n",
            "Requirement already satisfied: setuptools in /usr/local/lib/python3.12/dist-packages (from torch) (75.2.0)\n",
            "Requirement already satisfied: sympy>=1.13.3 in /usr/local/lib/python3.12/dist-packages (from torch) (1.13.3)\n",
            "Requirement already satisfied: networkx in /usr/local/lib/python3.12/dist-packages (from torch) (3.5)\n",
            "Requirement already satisfied: jinja2 in /usr/local/lib/python3.12/dist-packages (from torch) (3.1.6)\n",
            "Requirement already satisfied: fsspec in /usr/local/lib/python3.12/dist-packages (from torch) (2025.3.0)\n",
            "Requirement already satisfied: nvidia-cuda-nvrtc-cu12==12.6.77 in /usr/local/lib/python3.12/dist-packages (from torch) (12.6.77)\n",
            "Requirement already satisfied: nvidia-cuda-runtime-cu12==12.6.77 in /usr/local/lib/python3.12/dist-packages (from torch) (12.6.77)\n",
            "Requirement already satisfied: nvidia-cuda-cupti-cu12==12.6.80 in /usr/local/lib/python3.12/dist-packages (from torch) (12.6.80)\n",
            "Requirement already satisfied: nvidia-cudnn-cu12==9.10.2.21 in /usr/local/lib/python3.12/dist-packages (from torch) (9.10.2.21)\n",
            "Requirement already satisfied: nvidia-cublas-cu12==12.6.4.1 in /usr/local/lib/python3.12/dist-packages (from torch) (12.6.4.1)\n",
            "Requirement already satisfied: nvidia-cufft-cu12==11.3.0.4 in /usr/local/lib/python3.12/dist-packages (from torch) (11.3.0.4)\n",
            "Requirement already satisfied: nvidia-curand-cu12==10.3.7.77 in /usr/local/lib/python3.12/dist-packages (from torch) (10.3.7.77)\n",
            "Requirement already satisfied: nvidia-cusolver-cu12==11.7.1.2 in /usr/local/lib/python3.12/dist-packages (from torch) (11.7.1.2)\n",
            "Requirement already satisfied: nvidia-cusparse-cu12==12.5.4.2 in /usr/local/lib/python3.12/dist-packages (from torch) (12.5.4.2)\n",
            "Requirement already satisfied: nvidia-cusparselt-cu12==0.7.1 in /usr/local/lib/python3.12/dist-packages (from torch) (0.7.1)\n",
            "Requirement already satisfied: nvidia-nccl-cu12==2.27.3 in /usr/local/lib/python3.12/dist-packages (from torch) (2.27.3)\n",
            "Requirement already satisfied: nvidia-nvtx-cu12==12.6.77 in /usr/local/lib/python3.12/dist-packages (from torch) (12.6.77)\n",
            "Requirement already satisfied: nvidia-nvjitlink-cu12==12.6.85 in /usr/local/lib/python3.12/dist-packages (from torch) (12.6.85)\n",
            "Requirement already satisfied: nvidia-cufile-cu12==1.11.1.6 in /usr/local/lib/python3.12/dist-packages (from torch) (1.11.1.6)\n",
            "Requirement already satisfied: triton==3.4.0 in /usr/local/lib/python3.12/dist-packages (from torch) (3.4.0)\n",
            "Requirement already satisfied: mpmath<1.4,>=1.1.0 in /usr/local/lib/python3.12/dist-packages (from sympy>=1.13.3->torch) (1.3.0)\n",
            "Requirement already satisfied: MarkupSafe>=2.0 in /usr/local/lib/python3.12/dist-packages (from jinja2->torch) (3.0.2)\n"
          ]
        }
      ],
      "source": [
        "!pip install torch"
      ]
    },
    {
      "cell_type": "code",
      "source": [
        "!pip install torchvision"
      ],
      "metadata": {
        "colab": {
          "base_uri": "https://localhost:8080/"
        },
        "collapsed": true,
        "id": "dEF9nRR2ZJ5I",
        "outputId": "7e611ecf-8d93-4887-a0cd-e4e97e02feb2"
      },
      "execution_count": null,
      "outputs": [
        {
          "output_type": "stream",
          "name": "stdout",
          "text": [
            "Requirement already satisfied: torchvision in /usr/local/lib/python3.12/dist-packages (0.23.0+cu126)\n",
            "Requirement already satisfied: numpy in /usr/local/lib/python3.12/dist-packages (from torchvision) (2.0.2)\n",
            "Requirement already satisfied: torch==2.8.0 in /usr/local/lib/python3.12/dist-packages (from torchvision) (2.8.0+cu126)\n",
            "Requirement already satisfied: pillow!=8.3.*,>=5.3.0 in /usr/local/lib/python3.12/dist-packages (from torchvision) (11.3.0)\n",
            "Requirement already satisfied: filelock in /usr/local/lib/python3.12/dist-packages (from torch==2.8.0->torchvision) (3.19.1)\n",
            "Requirement already satisfied: typing-extensions>=4.10.0 in /usr/local/lib/python3.12/dist-packages (from torch==2.8.0->torchvision) (4.15.0)\n",
            "Requirement already satisfied: setuptools in /usr/local/lib/python3.12/dist-packages (from torch==2.8.0->torchvision) (75.2.0)\n",
            "Requirement already satisfied: sympy>=1.13.3 in /usr/local/lib/python3.12/dist-packages (from torch==2.8.0->torchvision) (1.13.3)\n",
            "Requirement already satisfied: networkx in /usr/local/lib/python3.12/dist-packages (from torch==2.8.0->torchvision) (3.5)\n",
            "Requirement already satisfied: jinja2 in /usr/local/lib/python3.12/dist-packages (from torch==2.8.0->torchvision) (3.1.6)\n",
            "Requirement already satisfied: fsspec in /usr/local/lib/python3.12/dist-packages (from torch==2.8.0->torchvision) (2025.3.0)\n",
            "Requirement already satisfied: nvidia-cuda-nvrtc-cu12==12.6.77 in /usr/local/lib/python3.12/dist-packages (from torch==2.8.0->torchvision) (12.6.77)\n",
            "Requirement already satisfied: nvidia-cuda-runtime-cu12==12.6.77 in /usr/local/lib/python3.12/dist-packages (from torch==2.8.0->torchvision) (12.6.77)\n",
            "Requirement already satisfied: nvidia-cuda-cupti-cu12==12.6.80 in /usr/local/lib/python3.12/dist-packages (from torch==2.8.0->torchvision) (12.6.80)\n",
            "Requirement already satisfied: nvidia-cudnn-cu12==9.10.2.21 in /usr/local/lib/python3.12/dist-packages (from torch==2.8.0->torchvision) (9.10.2.21)\n",
            "Requirement already satisfied: nvidia-cublas-cu12==12.6.4.1 in /usr/local/lib/python3.12/dist-packages (from torch==2.8.0->torchvision) (12.6.4.1)\n",
            "Requirement already satisfied: nvidia-cufft-cu12==11.3.0.4 in /usr/local/lib/python3.12/dist-packages (from torch==2.8.0->torchvision) (11.3.0.4)\n",
            "Requirement already satisfied: nvidia-curand-cu12==10.3.7.77 in /usr/local/lib/python3.12/dist-packages (from torch==2.8.0->torchvision) (10.3.7.77)\n",
            "Requirement already satisfied: nvidia-cusolver-cu12==11.7.1.2 in /usr/local/lib/python3.12/dist-packages (from torch==2.8.0->torchvision) (11.7.1.2)\n",
            "Requirement already satisfied: nvidia-cusparse-cu12==12.5.4.2 in /usr/local/lib/python3.12/dist-packages (from torch==2.8.0->torchvision) (12.5.4.2)\n",
            "Requirement already satisfied: nvidia-cusparselt-cu12==0.7.1 in /usr/local/lib/python3.12/dist-packages (from torch==2.8.0->torchvision) (0.7.1)\n",
            "Requirement already satisfied: nvidia-nccl-cu12==2.27.3 in /usr/local/lib/python3.12/dist-packages (from torch==2.8.0->torchvision) (2.27.3)\n",
            "Requirement already satisfied: nvidia-nvtx-cu12==12.6.77 in /usr/local/lib/python3.12/dist-packages (from torch==2.8.0->torchvision) (12.6.77)\n",
            "Requirement already satisfied: nvidia-nvjitlink-cu12==12.6.85 in /usr/local/lib/python3.12/dist-packages (from torch==2.8.0->torchvision) (12.6.85)\n",
            "Requirement already satisfied: nvidia-cufile-cu12==1.11.1.6 in /usr/local/lib/python3.12/dist-packages (from torch==2.8.0->torchvision) (1.11.1.6)\n",
            "Requirement already satisfied: triton==3.4.0 in /usr/local/lib/python3.12/dist-packages (from torch==2.8.0->torchvision) (3.4.0)\n",
            "Requirement already satisfied: mpmath<1.4,>=1.1.0 in /usr/local/lib/python3.12/dist-packages (from sympy>=1.13.3->torch==2.8.0->torchvision) (1.3.0)\n",
            "Requirement already satisfied: MarkupSafe>=2.0 in /usr/local/lib/python3.12/dist-packages (from jinja2->torch==2.8.0->torchvision) (3.0.2)\n"
          ]
        }
      ]
    },
    {
      "cell_type": "code",
      "source": [
        "import torch\n",
        "\n",
        "print(torch.cpu.is_available())\n",
        "print(torch.cuda.is_available())"
      ],
      "metadata": {
        "colab": {
          "base_uri": "https://localhost:8080/"
        },
        "id": "xj44WkWbRXVV",
        "outputId": "7c1e02d7-c081-42f1-9e15-a1947a672407"
      },
      "execution_count": null,
      "outputs": [
        {
          "output_type": "stream",
          "name": "stdout",
          "text": [
            "True\n",
            "True\n"
          ]
        }
      ]
    },
    {
      "cell_type": "code",
      "source": [
        "import torch\n",
        "import torch.nn as nn\n",
        "import torchvision\n",
        "from torchvision.datasets import ImageFolder\n",
        "from torch.utils.data import Dataset, DataLoader, random_split\n",
        "from torchvision import transforms"
      ],
      "metadata": {
        "id": "a0UfcHbNSOfV"
      },
      "execution_count": null,
      "outputs": []
    },
    {
      "cell_type": "code",
      "source": [
        "import os\n",
        "import json\n",
        "import numpy as np\n",
        "import matplotlib.pyplot as plt\n",
        "from PIL import Image\n",
        "from tqdm import tqdm"
      ],
      "metadata": {
        "id": "fYajb0yASnTC"
      },
      "execution_count": null,
      "outputs": []
    },
    {
      "cell_type": "code",
      "source": [
        "import struct\n",
        "import sys\n",
        "from array import array\n",
        "from os import path\n",
        "import torchvision\n",
        "import os\n",
        "import numpy as np\n",
        "from PIL import Image\n",
        "\n",
        "MNIST_PATH = 'content/raw_mnist'\n",
        "\n",
        "train_mnist = torchvision.datasets.MNIST(root=MNIST_PATH, train=True,  download=True)\n",
        "test_minst  = torchvision.datasets.MNIST(root=MNIST_PATH, train=False, download=True)\n",
        "\n",
        "def read(dataset):\n",
        "    if dataset == 'training':\n",
        "        path_img = MNIST_PATH+\"/MNIST/raw/train-images-idx3-ubyte\"\n",
        "        path_lbl = MNIST_PATH+\"/MNIST/raw/train-labels-idx1-ubyte\"\n",
        "    elif dataset == \"testing\":\n",
        "        path_img = MNIST_PATH+\"/MNIST/raw/t10k-images-idx3-ubyte\"\n",
        "        path_lbl = MNIST_PATH+\"/MNIST/raw/t10k-labels-idx1-ubyte\"\n",
        "    else:\n",
        "        raise Exception(\"unknown dataset\")\n",
        "\n",
        "    with open(path_lbl, 'rb' ) as f_label:\n",
        "        _, size = struct.unpack(\">II\", f_label.read(8))\n",
        "        lbl=array(\"b\", f_label.read())\n",
        "\n",
        "    with open(path_img, 'rb' ) as f_img:\n",
        "        _, size, rows, cols = struct.unpack(\">IIII\", f_img.read(16))\n",
        "        img=array(\"B\", f_img.read())\n",
        "\n",
        "    return lbl, img, size, rows, cols\n",
        "\n",
        "\n",
        "def write_dataset(labels, data, size, rows, cols, output_dir):\n",
        "    classes = {i: f\"class_{i}\" for i in range(10)}\n",
        "\n",
        "    output_dirs = [\n",
        "        path.join(output_dir, classes[i])  for i in range (10)\n",
        "    ]\n",
        "    for dir in output_dirs:\n",
        "            if not path.exists(dir):\n",
        "                os.makedirs(dir)\n",
        "\n",
        "    for(i, label) in enumerate(labels):\n",
        "        output_filename = path.join(output_dirs[label] , str(i)+\".jpg\")\n",
        "        #printing is too slow\n",
        "        #print(\"writing \" + output_filename)\n",
        "\n",
        "        with open(output_filename, \"wb\") as h:\n",
        "            data_i = [\n",
        "                data[ (i*rows*cols + j*cols): (i*rows*cols + (j+1)*cols)]\n",
        "                for j in range(rows)\n",
        "            ]\n",
        "            data_array= np.asarray(data_i)\n",
        "            im = Image.fromarray(data_array)\n",
        "            im.save(output_filename)\n",
        "\n",
        "output_path = \"content/mnist\"\n",
        "\n",
        "for dataset in [\"training\", \"testing\"]:\n",
        "    write_dataset(*read(dataset), path.join(output_path, dataset))"
      ],
      "metadata": {
        "id": "p_YTVEARO0Nk"
      },
      "execution_count": null,
      "outputs": []
    },
    {
      "cell_type": "code",
      "source": [
        "class MNISTDataset(Dataset):\n",
        "  \"\"\"Класс для формирование данных\"\"\"\n",
        "  def __init__(self, path, transform=None):\n",
        "    \"\"\"Конструктор класса\"\"\"\n",
        "    self.path = path\n",
        "    self.transform = transform\n",
        "\n",
        "    self.len_dataset = 0\n",
        "    self.data_list = []\n",
        "\n",
        "    for path_dir, dir_list, file_list in os.walk(path):\n",
        "      if path_dir == path:\n",
        "        self.classes = sorted(dir_list) #свойство классес - список с именами вложенных папок\n",
        "        self.class_to_idx = {\n",
        "            cls_name: i for i, cls_name in enumerate(self.classes) #словарь, где ключ - название класса, значение - номер\n",
        "        }\n",
        "        continue\n",
        "\n",
        "      cls = path_dir.split('/')[-1]\n",
        "\n",
        "      for name_file in file_list:\n",
        "        file_path = os.path.join(path_dir, name_file)\n",
        "        self.data_list.append((file_path, self.class_to_idx[cls])) #в список добавляется кортеж: (путь до файла, позиция в one_hot векторе для данного файла)\n",
        "\n",
        "      self.len_dataset += len(file_list)\n",
        "\n",
        "  def __len__(self):\n",
        "    \"\"\"Получаем длину данного класса\"\"\"\n",
        "    return self.len_dataset\n",
        "\n",
        "  def __getitem__(self, index):\n",
        "    \"\"\"По индексу получаем пару ('данные', 'ответ к данным')\"\"\"\n",
        "    file_path, target = self.data_list[index]\n",
        "    sample = Image.open(file_path)\n",
        "\n",
        "    if self.transform is not None:\n",
        "      sample = self.transform(sample)\n",
        "    return sample, target"
      ],
      "metadata": {
        "id": "JSjrBRXNS11C"
      },
      "execution_count": null,
      "outputs": []
    },
    {
      "cell_type": "code",
      "source": [
        "transform = transforms.Compose([\n",
        "    transforms.ToTensor(),\n",
        "    transforms.Normalize(mean=(0.5,), std=(0.5,))\n",
        "])"
      ],
      "metadata": {
        "id": "vg_FkZSJm5tQ"
      },
      "execution_count": null,
      "outputs": []
    },
    {
      "cell_type": "code",
      "source": [
        "train_data = MNISTDataset(path='/content/content/mnist/training', transform=transform)\n",
        "test_data = MNISTDataset(path='/content/content/mnist/testing', transform=transform)"
      ],
      "metadata": {
        "id": "qX1s9KFTeaOw"
      },
      "execution_count": null,
      "outputs": []
    },
    {
      "cell_type": "code",
      "source": [
        "train_data, val_data = random_split(train_data, [0.8, 0.2]) #разбиваем тренировочный датасет на тренировачный и валидационный 80 на 20\n",
        "\n",
        "print(f\"Длина тренировочного датасета: {len(train_data)}\")\n",
        "print(f\"Длина валидационного датасета: {len(val_data)}\")\n",
        "print(f\"Длина тестового датасета: {len(test_data)}\")"
      ],
      "metadata": {
        "colab": {
          "base_uri": "https://localhost:8080/"
        },
        "id": "fDsXYzfgjbZd",
        "outputId": "cf83b134-4bc4-4447-8ecb-14b05ecf9d04"
      },
      "execution_count": null,
      "outputs": [
        {
          "output_type": "stream",
          "name": "stdout",
          "text": [
            "Длина тренировочного датасета: 48000\n",
            "Длина валидационного датасета: 12000\n",
            "Длина тестового датасета: 10000\n"
          ]
        }
      ]
    },
    {
      "cell_type": "code",
      "source": [
        "train_loader = DataLoader(train_data, batch_size=32, shuffle=True)\n",
        "val_loader = DataLoader(val_data, batch_size=32, shuffle=False)\n",
        "test_loader = DataLoader(test_data, batch_size=32, shuffle=False)"
      ],
      "metadata": {
        "id": "hsycKEcMjy0-"
      },
      "execution_count": null,
      "outputs": []
    },
    {
      "cell_type": "code",
      "source": [
        "class NN(nn.Module):\n",
        "  \"\"\"Класс модели нейронной сети\"\"\"\n",
        "  def __init__(self):\n",
        "    \"\"\"Описание слоев и функций активации\"\"\"\n",
        "    super().__init__()\n",
        "    self.fc1 = nn.Linear(28*28, 512)\n",
        "    self.bn1 = nn.BatchNorm1d(512)\n",
        "    self.fc2 = nn.Linear(512, 256)\n",
        "    self.bn2 = nn.BatchNorm1d(256)\n",
        "    self.fc3 = nn.Linear(256, 128)\n",
        "    self.bn3 = nn.BatchNorm1d(128)\n",
        "    self.fc4 = nn.Linear(128, 10)\n",
        "\n",
        "    self.dropout = nn.Dropout(0.3)\n",
        "    self.relu = nn.ReLU()\n",
        "\n",
        "  def forward(self, x):\n",
        "    \"\"\"Описывается архитектура модели\"\"\"\n",
        "    x = x.view(x.size(0), -1)\n",
        "    x = self.dropout(self.relu(self.bn1(self.fc1(x))))\n",
        "    x = self.dropout(self.relu(self.bn2(self.fc2(x))))\n",
        "    x = self.dropout(self.relu(self.bn3(self.fc3(x))))\n",
        "    out = self.fc4(x)\n",
        "    return out"
      ],
      "metadata": {
        "id": "SVVsG4ARmzbj"
      },
      "execution_count": null,
      "outputs": []
    },
    {
      "cell_type": "code",
      "source": [
        "device = 'cuda' if torch.cuda.is_available() else 'cpu' #Графический процессор, если он доступен\n",
        "model = NN().to(device) #Создание модели"
      ],
      "metadata": {
        "id": "ODTXA2uNov10"
      },
      "execution_count": null,
      "outputs": []
    },
    {
      "cell_type": "code",
      "source": [
        "loss_model = nn.CrossEntropyLoss() #Функция потерь\n",
        "opt = torch.optim.Adam(model.parameters(), lr=0.0001) #Оптимизатор градиентного спуска"
      ],
      "metadata": {
        "id": "upG9NPQzoSt9"
      },
      "execution_count": null,
      "outputs": []
    },
    {
      "cell_type": "code",
      "source": [
        "#Начало обучения\n",
        "EPOCHS = 20\n",
        "train_loss = []\n",
        "train_acc = []\n",
        "val_loss = []\n",
        "val_acc = []\n",
        "all_targets = []\n",
        "all_preds = []\n",
        "#Цикл\n",
        "for epoch in range(EPOCHS):\n",
        "  #Тренировка\n",
        "  model.train()\n",
        "  running_train_loss = []\n",
        "  true_answer = 0\n",
        "  train_loop = tqdm(train_loader, leave=False) #Полоса загрузки\n",
        "  #Данные\n",
        "  for x, targets in train_loop:\n",
        "    x = x.to(device)\n",
        "    targets = targets.to(device)\n",
        "\n",
        "    #Прямой проход + расчет ошибки модели\n",
        "    pred = model(x)\n",
        "    loss = loss_model(pred, targets)\n",
        "\n",
        "    #Обратный проход\n",
        "    opt.zero_grad()\n",
        "    loss.backward()\n",
        "\n",
        "    #Шаг оптимизации\n",
        "    opt.step()\n",
        "    running_train_loss.append(loss.item())\n",
        "    mean_train_loss = sum(running_train_loss)/len(running_train_loss)\n",
        "    true_answer += (torch.argmax(pred, dim=1) == targets).sum().item()\n",
        "    train_loop.set_description(f\"Epoch [{epoch+1}/{EPOCHS}], train_loss={mean_train_loss:.4f}\")\n",
        "\n",
        "  #Расчет значения метрики\n",
        "  running_train_acc = true_answer / len(train_data)\n",
        "\n",
        "  #Сохранение\n",
        "  train_loss.append(mean_train_loss)\n",
        "  train_acc.append(running_train_acc)\n",
        "\n",
        "  #Валидация\n",
        "  model.eval()\n",
        "  with torch.no_grad():\n",
        "    running_val_loss = []\n",
        "    true_answer = 0\n",
        "    all_targets = []\n",
        "    all_preds = []\n",
        "\n",
        "    for x, targets in val_loader:\n",
        "        x = x.to(device)\n",
        "        targets = targets.to(device)\n",
        "\n",
        "        pred = model(x)\n",
        "        loss = loss_model(pred, targets)\n",
        "\n",
        "        running_val_loss.append(loss.item())\n",
        "        mean_val_loss = sum(running_val_loss) / len(running_val_loss)\n",
        "\n",
        "        # собираем предсказания\n",
        "        preds = torch.argmax(pred, dim=1)\n",
        "\n",
        "        true_answer += (preds == targets).sum().item()\n",
        "\n",
        "        all_targets.extend(targets.cpu().numpy())\n",
        "        all_preds.extend(preds.cpu().numpy())\n",
        "\n",
        "    #Расчет значения метрики\n",
        "    running_val_acc = true_answer / len(val_data)\n",
        "    val_loss.append(mean_val_loss)\n",
        "    val_acc.append(running_val_acc)\n",
        "\n",
        "    print(f\"Final Epoch [{epoch+1}/{EPOCHS}], train_loss={mean_train_loss:.4f}, train_acc={running_train_acc:.4f}, val_loss={mean_val_loss:.4f}, val_acc={running_val_acc:.4f}\")"
      ],
      "metadata": {
        "colab": {
          "base_uri": "https://localhost:8080/"
        },
        "id": "loRQwlrvri9-",
        "outputId": "8e4ff991-ae2d-48db-ffde-fde34be86ab5"
      },
      "execution_count": null,
      "outputs": [
        {
          "output_type": "stream",
          "name": "stderr",
          "text": []
        },
        {
          "output_type": "stream",
          "name": "stdout",
          "text": [
            "Final Epoch [1/20], train_loss=0.6766, train_acc=0.8396, val_loss=0.2120, val_acc=0.9436\n"
          ]
        },
        {
          "output_type": "stream",
          "name": "stderr",
          "text": []
        },
        {
          "output_type": "stream",
          "name": "stdout",
          "text": [
            "Final Epoch [2/20], train_loss=0.2700, train_acc=0.9276, val_loss=0.1295, val_acc=0.9607\n"
          ]
        },
        {
          "output_type": "stream",
          "name": "stderr",
          "text": []
        },
        {
          "output_type": "stream",
          "name": "stdout",
          "text": [
            "Final Epoch [3/20], train_loss=0.1958, train_acc=0.9442, val_loss=0.1006, val_acc=0.9697\n"
          ]
        },
        {
          "output_type": "stream",
          "name": "stderr",
          "text": []
        },
        {
          "output_type": "stream",
          "name": "stdout",
          "text": [
            "Final Epoch [4/20], train_loss=0.1585, train_acc=0.9537, val_loss=0.0864, val_acc=0.9735\n"
          ]
        },
        {
          "output_type": "stream",
          "name": "stderr",
          "text": []
        },
        {
          "output_type": "stream",
          "name": "stdout",
          "text": [
            "Final Epoch [5/20], train_loss=0.1384, train_acc=0.9593, val_loss=0.0797, val_acc=0.9753\n"
          ]
        },
        {
          "output_type": "stream",
          "name": "stderr",
          "text": []
        },
        {
          "output_type": "stream",
          "name": "stdout",
          "text": [
            "Final Epoch [6/20], train_loss=0.1238, train_acc=0.9621, val_loss=0.0776, val_acc=0.9767\n"
          ]
        },
        {
          "output_type": "stream",
          "name": "stderr",
          "text": []
        },
        {
          "output_type": "stream",
          "name": "stdout",
          "text": [
            "Final Epoch [7/20], train_loss=0.1157, train_acc=0.9649, val_loss=0.0786, val_acc=0.9767\n"
          ]
        },
        {
          "output_type": "stream",
          "name": "stderr",
          "text": []
        },
        {
          "output_type": "stream",
          "name": "stdout",
          "text": [
            "Final Epoch [8/20], train_loss=0.1041, train_acc=0.9682, val_loss=0.0704, val_acc=0.9788\n"
          ]
        },
        {
          "output_type": "stream",
          "name": "stderr",
          "text": []
        },
        {
          "output_type": "stream",
          "name": "stdout",
          "text": [
            "Final Epoch [9/20], train_loss=0.0981, train_acc=0.9694, val_loss=0.0655, val_acc=0.9799\n"
          ]
        },
        {
          "output_type": "stream",
          "name": "stderr",
          "text": []
        },
        {
          "output_type": "stream",
          "name": "stdout",
          "text": [
            "Final Epoch [10/20], train_loss=0.0890, train_acc=0.9721, val_loss=0.0614, val_acc=0.9814\n"
          ]
        },
        {
          "output_type": "stream",
          "name": "stderr",
          "text": []
        },
        {
          "output_type": "stream",
          "name": "stdout",
          "text": [
            "Final Epoch [11/20], train_loss=0.0853, train_acc=0.9741, val_loss=0.0624, val_acc=0.9817\n"
          ]
        },
        {
          "output_type": "stream",
          "name": "stderr",
          "text": []
        },
        {
          "output_type": "stream",
          "name": "stdout",
          "text": [
            "Final Epoch [12/20], train_loss=0.0795, train_acc=0.9750, val_loss=0.0610, val_acc=0.9815\n"
          ]
        },
        {
          "output_type": "stream",
          "name": "stderr",
          "text": []
        },
        {
          "output_type": "stream",
          "name": "stdout",
          "text": [
            "Final Epoch [13/20], train_loss=0.0766, train_acc=0.9755, val_loss=0.0641, val_acc=0.9808\n"
          ]
        },
        {
          "output_type": "stream",
          "name": "stderr",
          "text": []
        },
        {
          "output_type": "stream",
          "name": "stdout",
          "text": [
            "Final Epoch [14/20], train_loss=0.0722, train_acc=0.9776, val_loss=0.0609, val_acc=0.9818\n"
          ]
        },
        {
          "output_type": "stream",
          "name": "stderr",
          "text": []
        },
        {
          "output_type": "stream",
          "name": "stdout",
          "text": [
            "Final Epoch [15/20], train_loss=0.0645, train_acc=0.9799, val_loss=0.0608, val_acc=0.9826\n"
          ]
        },
        {
          "output_type": "stream",
          "name": "stderr",
          "text": []
        },
        {
          "output_type": "stream",
          "name": "stdout",
          "text": [
            "Final Epoch [16/20], train_loss=0.0644, train_acc=0.9799, val_loss=0.0582, val_acc=0.9819\n"
          ]
        },
        {
          "output_type": "stream",
          "name": "stderr",
          "text": []
        },
        {
          "output_type": "stream",
          "name": "stdout",
          "text": [
            "Final Epoch [17/20], train_loss=0.0620, train_acc=0.9804, val_loss=0.0570, val_acc=0.9834\n"
          ]
        },
        {
          "output_type": "stream",
          "name": "stderr",
          "text": []
        },
        {
          "output_type": "stream",
          "name": "stdout",
          "text": [
            "Final Epoch [18/20], train_loss=0.0577, train_acc=0.9816, val_loss=0.0621, val_acc=0.9822\n"
          ]
        },
        {
          "output_type": "stream",
          "name": "stderr",
          "text": []
        },
        {
          "output_type": "stream",
          "name": "stdout",
          "text": [
            "Final Epoch [19/20], train_loss=0.0547, train_acc=0.9831, val_loss=0.0552, val_acc=0.9831\n"
          ]
        },
        {
          "output_type": "stream",
          "name": "stderr",
          "text": []
        },
        {
          "output_type": "stream",
          "name": "stdout",
          "text": [
            "Final Epoch [20/20], train_loss=0.0554, train_acc=0.9819, val_loss=0.0567, val_acc=0.9833\n"
          ]
        }
      ]
    },
    {
      "cell_type": "code",
      "source": [
        "from sklearn.metrics import confusion_matrix, ConfusionMatrixDisplay\n",
        "import matplotlib.pyplot as plt\n",
        "\n",
        "cm = confusion_matrix(all_targets, all_preds)\n",
        "disp = ConfusionMatrixDisplay(confusion_matrix=cm, display_labels=[str(i) for i in range(10)])\n",
        "disp.plot(cmap=\"Blues\", values_format=\"d\")\n",
        "plt.title(\"Confusion Matrix (Validation)\")\n",
        "plt.show()"
      ],
      "metadata": {
        "colab": {
          "base_uri": "https://localhost:8080/",
          "height": 472
        },
        "id": "oGU0dLnEYymJ",
        "outputId": "2b4c4b7a-b681-494b-aad7-034e5d58326d"
      },
      "execution_count": null,
      "outputs": [
        {
          "output_type": "display_data",
          "data": {
            "text/plain": [
              "<Figure size 640x480 with 2 Axes>"
            ],
            "image/png": "[encoded data removed]"
          },
          "metadata": {}
        }
      ]
    },
    {
      "cell_type": "code",
      "source": [
        "plt.plot(train_loss)\n",
        "plt.plot(val_loss)\n",
        "plt.legend(['loss_train', 'loss_val'])\n",
        "plt.show()"
      ],
      "metadata": {
        "colab": {
          "base_uri": "https://localhost:8080/",
          "height": 431
        },
        "id": "Dcot7hLt29xn",
        "outputId": "453fdead-e37a-4dc1-d8b3-b7dd10014dbc"
      },
      "execution_count": null,
      "outputs": [
        {
          "output_type": "display_data",
          "data": {
            "text/plain": [
              "<Figure size 640x480 with 1 Axes>"
            ],
            "image/png": "[encoded data removed]"
          },
          "metadata": {}
        }
      ]
    },
    {
      "cell_type": "code",
      "source": [
        "plt.plot(train_acc)\n",
        "plt.plot(val_acc)\n",
        "plt.legend(['acc_train', 'acc_val'])\n",
        "plt.show()"
      ],
      "metadata": {
        "colab": {
          "base_uri": "https://localhost:8080/",
          "height": 430
        },
        "id": "mvxpwAcS2_9y",
        "outputId": "0c40bd2f-8570-427e-ae00-836523e737c5"
      },
      "execution_count": null,
      "outputs": [
        {
          "output_type": "display_data",
          "data": {
            "text/plain": [
              "<Figure size 640x480 with 1 Axes>"
            ],
            "image/png": "[encoded data removed]"
          },
          "metadata": {}
        }
      ]
    },
    {
      "cell_type": "code",
      "source": [
        "def show_correct_and_wrong(model, loader, classes, device, num_correct=5, num_wrong=5):\n",
        "    model.eval()\n",
        "    correct_samples = []\n",
        "    wrong_samples = []\n",
        "\n",
        "    with torch.no_grad():\n",
        "        for x, targets in loader:\n",
        "            x = x.to(device)\n",
        "            targets = targets.to(device)\n",
        "            outputs = model(x)\n",
        "            preds = torch.argmax(outputs, dim=1)\n",
        "\n",
        "            for i in range(len(targets)):\n",
        "                img = x[i].cpu()\n",
        "                true_label = targets[i].item()\n",
        "                pred_label = preds[i].item()\n",
        "\n",
        "                if true_label == pred_label and len(correct_samples) < num_correct:\n",
        "                    correct_samples.append((img, true_label, pred_label))\n",
        "                elif true_label != pred_label and len(wrong_samples) < num_wrong:\n",
        "                    wrong_samples.append((img, true_label, pred_label))\n",
        "\n",
        "                # если набрали достаточно примеров — выходим\n",
        "                if len(correct_samples) >= num_correct and len(wrong_samples) >= num_wrong:\n",
        "                    break\n",
        "            if len(correct_samples) >= num_correct and len(wrong_samples) >= num_wrong:\n",
        "                break\n",
        "\n",
        "    # рисуем\n",
        "    total = num_correct + num_wrong\n",
        "    plt.figure(figsize=(15, 6))\n",
        "    samples = correct_samples + wrong_samples\n",
        "    for i, (img, true_label, pred_label) in enumerate(samples):\n",
        "        plt.subplot(2, total // 2, i + 1)\n",
        "        img = img.permute(1, 2, 0).numpy()\n",
        "        plt.imshow(img, cmap=\"gray\" if img.shape[-1] == 1 else None)\n",
        "        plt.axis(\"off\")\n",
        "        color = \"green\" if true_label == pred_label else \"red\"\n",
        "        plt.title(f\"Pred: {classes[pred_label]}\\nTrue: {classes[true_label]}\", color=color, fontsize=10)\n",
        "\n",
        "    plt.suptitle(\"True and False predictions\", fontsize=14)\n",
        "    plt.tight_layout()\n",
        "    plt.show()\n"
      ],
      "metadata": {
        "id": "kpyzOcqxZE_3"
      },
      "execution_count": null,
      "outputs": []
    },
    {
      "cell_type": "code",
      "source": [
        "classes = [str(i) for i in range(10)]  # список классов\n",
        "show_correct_and_wrong(model, test_loader, classes, device, num_correct=5, num_wrong=5)"
      ],
      "metadata": {
        "colab": {
          "base_uri": "https://localhost:8080/",
          "height": 610
        },
        "id": "3Y4ovD65ZHiT",
        "outputId": "36781e8c-5ed1-4e1b-b68d-2e25b0caa974"
      },
      "execution_count": null,
      "outputs": [
        {
          "output_type": "display_data",
          "data": {
            "text/plain": [
              "<Figure size 1500x600 with 10 Axes>"
            ],
            "image/png": "[encoded data removed]"
          },
          "metadata": {}
        }
      ]
    },
    {
      "cell_type": "markdown",
      "source": [
        "**ПРОВЕРКА ДАТАСЕТА!!!**"
      ],
      "metadata": {
        "id": "GYtzeSyue6Yg"
      }
    },
    {
      "cell_type": "code",
      "source": [
        "train_data.classes #проверка свойства classes"
      ],
      "metadata": {
        "colab": {
          "base_uri": "https://localhost:8080/"
        },
        "collapsed": true,
        "id": "4IF4Za14ev2o",
        "outputId": "fb62d6f7-77cc-43aa-a7a7-f3e0647e27e3"
      },
      "execution_count": null,
      "outputs": [
        {
          "output_type": "execute_result",
          "data": {
            "text/plain": [
              "['class_0',\n",
              " 'class_1',\n",
              " 'class_2',\n",
              " 'class_3',\n",
              " 'class_4',\n",
              " 'class_5',\n",
              " 'class_6',\n",
              " 'class_7',\n",
              " 'class_8',\n",
              " 'class_9']"
            ]
          },
          "metadata": {},
          "execution_count": 17
        }
      ]
    },
    {
      "cell_type": "code",
      "source": [
        "for path, dir_list, file_list in os.walk('/content/content/mnist/training'):\n",
        "  print(f\"Путь к папке: {path.split('/')[-1]}\")\n",
        "  print(f\"\\t -количество папок: {len(dir_list)}\")\n",
        "  print(f\"\\t -количество файлов: {len(file_list)}\")"
      ],
      "metadata": {
        "collapsed": true,
        "colab": {
          "base_uri": "https://localhost:8080/"
        },
        "id": "AxYkQc9re_HM",
        "outputId": "c532efa7-2f67-4231-ae29-29a27997b0e8"
      },
      "execution_count": null,
      "outputs": [
        {
          "output_type": "stream",
          "name": "stdout",
          "text": [
            "Путь к папке: training\n",
            "\t -количество папок: 10\n",
            "\t -количество файлов: 0\n",
            "Путь к папке: class_6\n",
            "\t -количество папок: 0\n",
            "\t -количество файлов: 5918\n",
            "Путь к папке: class_3\n",
            "\t -количество папок: 0\n",
            "\t -количество файлов: 6131\n",
            "Путь к папке: class_9\n",
            "\t -количество папок: 0\n",
            "\t -количество файлов: 5949\n",
            "Путь к папке: class_8\n",
            "\t -количество папок: 0\n",
            "\t -количество файлов: 5851\n",
            "Путь к папке: class_1\n",
            "\t -количество папок: 0\n",
            "\t -количество файлов: 6742\n",
            "Путь к папке: class_5\n",
            "\t -количество папок: 0\n",
            "\t -количество файлов: 5421\n",
            "Путь к папке: class_2\n",
            "\t -количество папок: 0\n",
            "\t -количество файлов: 5958\n",
            "Путь к папке: class_7\n",
            "\t -количество папок: 0\n",
            "\t -количество файлов: 6265\n",
            "Путь к папке: class_0\n",
            "\t -количество папок: 0\n",
            "\t -количество файлов: 5923\n",
            "Путь к папке: class_4\n",
            "\t -количество папок: 0\n",
            "\t -количество файлов: 5842\n"
          ]
        }
      ]
    },
    {
      "cell_type": "code",
      "source": [
        "test_data.class_to_idx #проверка свойства class_to_idx"
      ],
      "metadata": {
        "colab": {
          "base_uri": "https://localhost:8080/"
        },
        "collapsed": true,
        "id": "8-VMNKp9fJoM",
        "outputId": "bb3e3b38-33ed-4047-d6ce-c6f5869c544b"
      },
      "execution_count": null,
      "outputs": [
        {
          "output_type": "execute_result",
          "data": {
            "text/plain": [
              "{'class_0': 0,\n",
              " 'class_1': 1,\n",
              " 'class_2': 2,\n",
              " 'class_3': 3,\n",
              " 'class_4': 4,\n",
              " 'class_5': 5,\n",
              " 'class_6': 6,\n",
              " 'class_7': 7,\n",
              " 'class_8': 8,\n",
              " 'class_9': 9}"
            ]
          },
          "metadata": {},
          "execution_count": 20
        }
      ]
    },
    {
      "cell_type": "code",
      "source": [
        "#one_hot вектор для каждого класса\n",
        "for cls, one_hot_position in train_data.class_to_idx.items():\n",
        "  one_hot_vector = [(i == one_hot_position)*1 for i in range(4)]\n",
        "  print(f\"{cls} => {one_hot_vector}\")"
      ],
      "metadata": {
        "colab": {
          "base_uri": "https://localhost:8080/",
          "height": 193
        },
        "collapsed": true,
        "id": "zzVo8YIKf3uJ",
        "outputId": "30bcf6d1-de7e-4af7-fdf9-a5421cbce731"
      },
      "execution_count": null,
      "outputs": [
        {
          "output_type": "error",
          "ename": "AttributeError",
          "evalue": "'Subset' object has no attribute 'class_to_idx'",
          "traceback": [
            "\u001b[0;31m---------------------------------------------------------------------------\u001b[0m",
            "\u001b[0;31mAttributeError\u001b[0m                            Traceback (most recent call last)",
            "\u001b[0;32m/tmp/ipython-input-5347494.py\u001b[0m in \u001b[0;36m<cell line: 0>\u001b[0;34m()\u001b[0m\n\u001b[1;32m      1\u001b[0m \u001b[0;31m#one_hot вектор для каждого класса\u001b[0m\u001b[0;34m\u001b[0m\u001b[0;34m\u001b[0m\u001b[0m\n\u001b[0;32m----> 2\u001b[0;31m \u001b[0;32mfor\u001b[0m \u001b[0mcls\u001b[0m\u001b[0;34m,\u001b[0m \u001b[0mone_hot_position\u001b[0m \u001b[0;32min\u001b[0m \u001b[0mtrain_data\u001b[0m\u001b[0;34m.\u001b[0m\u001b[0mclass_to_idx\u001b[0m\u001b[0;34m.\u001b[0m\u001b[0mitems\u001b[0m\u001b[0;34m(\u001b[0m\u001b[0;34m)\u001b[0m\u001b[0;34m:\u001b[0m\u001b[0;34m\u001b[0m\u001b[0;34m\u001b[0m\u001b[0m\n\u001b[0m\u001b[1;32m      3\u001b[0m   \u001b[0mone_hot_vector\u001b[0m \u001b[0;34m=\u001b[0m \u001b[0;34m[\u001b[0m\u001b[0;34m(\u001b[0m\u001b[0mi\u001b[0m \u001b[0;34m==\u001b[0m \u001b[0mone_hot_position\u001b[0m\u001b[0;34m)\u001b[0m\u001b[0;34m*\u001b[0m\u001b[0;36m1\u001b[0m \u001b[0;32mfor\u001b[0m \u001b[0mi\u001b[0m \u001b[0;32min\u001b[0m \u001b[0mrange\u001b[0m\u001b[0;34m(\u001b[0m\u001b[0;36m4\u001b[0m\u001b[0;34m)\u001b[0m\u001b[0;34m]\u001b[0m\u001b[0;34m\u001b[0m\u001b[0;34m\u001b[0m\u001b[0m\n\u001b[1;32m      4\u001b[0m   \u001b[0mprint\u001b[0m\u001b[0;34m(\u001b[0m\u001b[0;34mf\"{cls} => {one_hot_vector}\"\u001b[0m\u001b[0;34m)\u001b[0m\u001b[0;34m\u001b[0m\u001b[0;34m\u001b[0m\u001b[0m\n",
            "\u001b[0;31mAttributeError\u001b[0m: 'Subset' object has no attribute 'class_to_idx'"
          ]
        }
      ]
    },
    {
      "cell_type": "code",
      "source": [
        "train_data[2564]"
      ],
      "metadata": {
        "colab": {
          "base_uri": "https://localhost:8080/"
        },
        "id": "16OalzI1Q95M",
        "outputId": "3b5652c4-d311-4e88-963f-4ff9d6f43409"
      },
      "execution_count": null,
      "outputs": [
        {
          "output_type": "execute_result",
          "data": {
            "text/plain": [
              "(tensor([[[-1., -1., -1.,  ..., -1., -1., -1.],\n",
              "          [-1., -1., -1.,  ..., -1., -1., -1.],\n",
              "          [-1., -1., -1.,  ..., -1., -1., -1.],\n",
              "          ...,\n",
              "          [-1., -1., -1.,  ..., -1., -1., -1.],\n",
              "          [-1., -1., -1.,  ..., -1., -1., -1.],\n",
              "          [-1., -1., -1.,  ..., -1., -1., -1.]]]),\n",
              " 6)"
            ]
          },
          "metadata": {},
          "execution_count": 24
        }
      ]
    },
    {
      "cell_type": "code",
      "source": [
        "img, one_hot_position = train_data[2564]\n",
        "cls = train_data.classes[one_hot_position]\n",
        "\n",
        "print(f'Класс - {cls}')\n",
        "plt.imshow(img, cmap='gray')"
      ],
      "metadata": {
        "colab": {
          "base_uri": "https://localhost:8080/",
          "height": 211
        },
        "collapsed": true,
        "id": "jVrjcP_7RKUv",
        "outputId": "9dc79776-2617-4c53-ef82-f16656011a5b"
      },
      "execution_count": null,
      "outputs": [
        {
          "output_type": "error",
          "ename": "AttributeError",
          "evalue": "'Subset' object has no attribute 'classes'",
          "traceback": [
            "\u001b[0;31m---------------------------------------------------------------------------\u001b[0m",
            "\u001b[0;31mAttributeError\u001b[0m                            Traceback (most recent call last)",
            "\u001b[0;32m/tmp/ipython-input-1436005709.py\u001b[0m in \u001b[0;36m<cell line: 0>\u001b[0;34m()\u001b[0m\n\u001b[1;32m      1\u001b[0m \u001b[0mimg\u001b[0m\u001b[0;34m,\u001b[0m \u001b[0mone_hot_position\u001b[0m \u001b[0;34m=\u001b[0m \u001b[0mtrain_data\u001b[0m\u001b[0;34m[\u001b[0m\u001b[0;36m2564\u001b[0m\u001b[0;34m]\u001b[0m\u001b[0;34m\u001b[0m\u001b[0;34m\u001b[0m\u001b[0m\n\u001b[0;32m----> 2\u001b[0;31m \u001b[0mcls\u001b[0m \u001b[0;34m=\u001b[0m \u001b[0mtrain_data\u001b[0m\u001b[0;34m.\u001b[0m\u001b[0mclasses\u001b[0m\u001b[0;34m[\u001b[0m\u001b[0mone_hot_position\u001b[0m\u001b[0;34m]\u001b[0m\u001b[0;34m\u001b[0m\u001b[0;34m\u001b[0m\u001b[0m\n\u001b[0m\u001b[1;32m      3\u001b[0m \u001b[0;34m\u001b[0m\u001b[0m\n\u001b[1;32m      4\u001b[0m \u001b[0mprint\u001b[0m\u001b[0;34m(\u001b[0m\u001b[0;34mf'Класс - {cls}'\u001b[0m\u001b[0;34m)\u001b[0m\u001b[0;34m\u001b[0m\u001b[0;34m\u001b[0m\u001b[0m\n\u001b[1;32m      5\u001b[0m \u001b[0mplt\u001b[0m\u001b[0;34m.\u001b[0m\u001b[0mimshow\u001b[0m\u001b[0;34m(\u001b[0m\u001b[0mimg\u001b[0m\u001b[0;34m,\u001b[0m \u001b[0mcmap\u001b[0m\u001b[0;34m=\u001b[0m\u001b[0;34m'gray'\u001b[0m\u001b[0;34m)\u001b[0m\u001b[0;34m\u001b[0m\u001b[0;34m\u001b[0m\u001b[0m\n",
            "\u001b[0;31mAttributeError\u001b[0m: 'Subset' object has no attribute 'classes'"
          ]
        }
      ]
    },
    {
      "cell_type": "code",
      "source": [
        "%%shell\n",
        "jupyter nbconvert --to html /content/MultiNN.ipynb"
      ],
      "metadata": {
        "colab": {
          "base_uri": "https://localhost:8080/"
        },
        "id": "B2ik98N-gcYf",
        "outputId": "08f00aff-a1c3-4470-d3c6-1bc99a1f09cf"
      },
      "execution_count": null,
      "outputs": [
        {
          "output_type": "stream",
          "name": "stdout",
          "text": [
            "[NbConvertApp] Converting notebook /content/MultiNN.ipynb to html\n",
            "[NbConvertApp] WARNING | Alternative text is missing on 4 image(s).\n",
            "[NbConvertApp] Writing 523434 bytes to /content/MultiNN.html\n"
          ]
        },
        {
          "output_type": "execute_result",
          "data": {
            "text/plain": []
          },
          "metadata": {},
          "execution_count": 42
        }
      ]
    }
  ]
}